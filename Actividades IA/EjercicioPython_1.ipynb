{
  "nbformat": 4,
  "nbformat_minor": 0,
  "metadata": {
    "colab": {
      "provenance": []
    },
    "kernelspec": {
      "name": "python3",
      "display_name": "Python 3"
    },
    "language_info": {
      "name": "python"
    }
  },
  "cells": [
    {
      "cell_type": "code",
      "execution_count": 17,
      "metadata": {
        "colab": {
          "base_uri": "https://localhost:8080/"
        },
        "id": "YHzHM0tKh1ct",
        "outputId": "7fbb4a27-6c54-4066-99e0-9767cb6a6591"
      },
      "outputs": [
        {
          "output_type": "stream",
          "name": "stdout",
          "text": [
            "Ingrese su nombre: Pedro\n",
            "No te conozco.\n"
          ]
        }
      ],
      "source": [
        "# Actividad 2: Diseño de algoritmos en Python, Marcelo Alejandro Reyes Coo 2077769 N4\n",
        "\n",
        "# Pedir al usuario que ingrese su nombre\n",
        "nombre = input(\"Ingrese su nombre: \")\n",
        "\n",
        "# Verificar si el nombre no está en la lista de nombres especiales\n",
        "if nombre.lower() not in [\"ana\", \"juan\", \"pedro\"]:\n",
        "    print(\"¡Hola, \" + nombre + \"!\")\n",
        "else:\n",
        "    print(\"No te conozco.\")\n"
      ]
    },
    {
      "cell_type": "code",
      "source": [
        "def invertir_lista():\n",
        "    # Pedir al usuario que ingrese el número de elementos de la lista\n",
        "    n = int(input(\"Ingrese el número de comidas que puede nombrar en este momento: \"))\n",
        "\n",
        "    # Pedir al usuario que ingrese los elementos de la lista\n",
        "    lista = []\n",
        "    for i in range(n):\n",
        "        elemento = input(f\"Ingrese el elemento {i+1}: \")\n",
        "        lista.append(elemento)\n",
        "\n",
        "    # Invertir la lista\n",
        "    lista_invertida = lista[::-1]\n",
        "\n",
        "    # Imprimir la lista invertida\n",
        "    print(\"Lista original:\", lista)\n",
        "    print(\"Lista invertida:\", lista_invertida)\n",
        "\n",
        "# Llamar a la función para invertir la lista\n",
        "invertir_lista()"
      ],
      "metadata": {
        "colab": {
          "base_uri": "https://localhost:8080/"
        },
        "id": "dZXv3LgwIh5R",
        "outputId": "b568ee53-bb30-424e-a644-80629ccf00c5"
      },
      "execution_count": 5,
      "outputs": [
        {
          "output_type": "stream",
          "name": "stdout",
          "text": [
            "Ingrese el número de elementos de la lista: 5\n",
            "Ingrese el elemento 1: Pasta\n",
            "Ingrese el elemento 2: Pizza\n",
            "Ingrese el elemento 3: Empanadas\n",
            "Ingrese el elemento 4: Spaghetti\n",
            "Ingrese el elemento 5: Quesadillas\n",
            "Lista original: ['Pasta', 'Pizza', 'Empanadas', 'Spaghetti', 'Quesadillas']\n",
            "Lista invertida: ['Quesadillas', 'Spaghetti', 'Empanadas', 'Pizza', 'Pasta']\n"
          ]
        }
      ]
    },
    {
      "cell_type": "code",
      "source": [
        "def fibonacci(n):\n",
        "    fib = [0, 1]  # Inicializar la lista con los dos primeros números de Fibonacci\n",
        "    for i in range(2, n):\n",
        "        fib.append(fib[i-1] + fib[i-2])  # Calcular el siguiente número de Fibonacci\n",
        "    return fib\n",
        "\n",
        "# Pedir al usuario cuántos números de Fibonacci quiere generar\n",
        "n = int(input(\"Ingrese cuántos números de la serie de Fibonacci quiere generar: \"))\n",
        "\n",
        "# Generar y mostrar los números de Fibonacci\n",
        "resultado = fibonacci(n)\n",
        "print(f\"Los primeros {n} números de la serie de Fibonacci son:\")\n",
        "print(resultado)"
      ],
      "metadata": {
        "colab": {
          "base_uri": "https://localhost:8080/"
        },
        "id": "Z_pqSpPJJ-wl",
        "outputId": "5905af76-ca78-4970-d66c-c68c8b3ead4d"
      },
      "execution_count": 6,
      "outputs": [
        {
          "output_type": "stream",
          "name": "stdout",
          "text": [
            "Ingrese cuántos números de la serie de Fibonacci quiere generar: 10\n",
            "Los primeros 10 números de la serie de Fibonacci son:\n",
            "[0, 1, 1, 2, 3, 5, 8, 13, 21, 34]\n"
          ]
        }
      ]
    },
    {
      "cell_type": "code",
      "source": [
        "import random\n",
        "\n",
        "def juego_adivina_numero():\n",
        "    # Generar un número aleatorio entre 1 y 100\n",
        "    numero_secreto = random.randint(1, 100)\n",
        "\n",
        "    # Inicializar el contador de intentos\n",
        "    intentos = 0\n",
        "\n",
        "    print(\"¡Bienvenido al juego de adivinar el número!\")\n",
        "\n",
        "    # Pedir al usuario que adivine el número\n",
        "    while True:\n",
        "        intento = int(input(\"Adivina el número (entre 1 y 100): \"))\n",
        "        intentos += 1\n",
        "\n",
        "        if intento < numero_secreto:\n",
        "            print(\"El número secreto es mayor. ¡Sigue intentando!\")\n",
        "        elif intento > numero_secreto:\n",
        "            print(\"El número secreto es menor. ¡Sigue intentando!\")\n",
        "        else:\n",
        "            print(f\"¡Felicidades! Adivinaste el número secreto en {intentos} intentos.\")\n",
        "            break\n",
        "\n",
        "# Llamar a la función para iniciar el juego\n",
        "juego_adivina_numero()\n"
      ],
      "metadata": {
        "colab": {
          "base_uri": "https://localhost:8080/"
        },
        "id": "dDUMqCbyK54g",
        "outputId": "8c66bdfa-6e82-44ba-c33c-df22b7eb0558"
      },
      "execution_count": 11,
      "outputs": [
        {
          "output_type": "stream",
          "name": "stdout",
          "text": [
            "¡Bienvenido al juego de adivinar el número!\n",
            "Adivina el número (entre 1 y 100): 50\n",
            "El número secreto es mayor. ¡Sigue intentando!\n",
            "Adivina el número (entre 1 y 100): 75\n",
            "El número secreto es mayor. ¡Sigue intentando!\n",
            "Adivina el número (entre 1 y 100): 95\n",
            "El número secreto es menor. ¡Sigue intentando!\n",
            "Adivina el número (entre 1 y 100): 85\n",
            "El número secreto es menor. ¡Sigue intentando!\n",
            "Adivina el número (entre 1 y 100): 80\n",
            "¡Felicidades! Adivinaste el número secreto en 5 intentos.\n"
          ]
        }
      ]
    },
    {
      "cell_type": "code",
      "source": [
        "def es_primo(numero):\n",
        "    if numero < 2:\n",
        "        return False\n",
        "    for i in range(2, int(numero**0.5) + 1):\n",
        "        if numero % i == 0:\n",
        "            return False\n",
        "    return True\n",
        "\n",
        "# Solicitar al usuario el rango de números\n",
        "inicio = int(input(\"Ingrese el número inicial del rango: \"))\n",
        "fin = int(input(\"Ingrese el número final del rango: \"))\n",
        "\n",
        "# Mostrar los números primos en el rango dado\n",
        "print(f\"Los números primos en el rango de {inicio} a {fin} son:\")\n",
        "for numero in range(inicio, fin + 1):\n",
        "    if es_primo(numero):\n",
        "        print(numero, end=\" \")"
      ],
      "metadata": {
        "colab": {
          "base_uri": "https://localhost:8080/"
        },
        "id": "mLdNgrNQLsna",
        "outputId": "54d20d53-34a6-452e-b6cc-30e56c08b765"
      },
      "execution_count": 13,
      "outputs": [
        {
          "output_type": "stream",
          "name": "stdout",
          "text": [
            "Ingrese el número inicial del rango: 0\n",
            "Ingrese el número final del rango: 22\n",
            "Los números primos en el rango de 0 a 22 son:\n",
            "2 3 5 7 11 13 17 19 "
          ]
        }
      ]
    },
    {
      "cell_type": "code",
      "source": [
        "# Función para sumar dos números\n",
        "def suma(a, b):\n",
        "    return a + b\n",
        "\n",
        "# Función para restar dos números\n",
        "def resta(a, b):\n",
        "    return a - b\n",
        "\n",
        "# Función para multiplicar dos números\n",
        "def multiplicacion(a, b):\n",
        "    return a * b\n",
        "\n",
        "# Función para dividir dos números\n",
        "def division(a, b):\n",
        "    if b == 0:\n",
        "        return \"Error: No se puede dividir por cero\"\n",
        "    else:\n",
        "        return a / b\n",
        "\n",
        "# Función principal\n",
        "def main():\n",
        "    # Solicitar al usuario que ingrese dos números\n",
        "    a = float(input(\"Ingrese el primer número: \"))\n",
        "    b = float(input(\"Ingrese el segundo número: \"))\n",
        "\n",
        "    # Realizar operaciones\n",
        "    print(\"Suma:\", suma(a, b))\n",
        "    print(\"Resta:\", resta(a, b))\n",
        "    print(\"Multiplicación:\", multiplicacion(a, b))\n",
        "    print(\"División:\", division(a, b))\n",
        "\n",
        "# Llamar a la función principal\n",
        "main()"
      ],
      "metadata": {
        "colab": {
          "base_uri": "https://localhost:8080/"
        },
        "id": "pmI6UE7aM6K9",
        "outputId": "5ee830d6-3929-495b-ad76-75dddd2f8791"
      },
      "execution_count": 15,
      "outputs": [
        {
          "output_type": "stream",
          "name": "stdout",
          "text": [
            "Ingrese el primer número: 64\n",
            "Ingrese el segundo número: 8\n",
            "Suma: 72.0\n",
            "Resta: 56.0\n",
            "Multiplicación: 512.0\n",
            "División: 8.0\n"
          ]
        }
      ]
    }
  ]
}